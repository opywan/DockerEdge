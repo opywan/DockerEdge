{
 "cells": [
  {
   "cell_type": "code",
   "execution_count": 2,
   "metadata": {},
   "outputs": [],
   "source": [
    "import os\n",
    "import sys\n",
    "#append calm path to workspace if necessary\n",
    "sys.path.append(\"/workspace/notebooks/calm-dsl\")\n",
    "\n",
    "#keeping verbose list of imports for reference only \n",
    "#use shortcut if importing a bunch of builtins\n",
    "#from calm.dsl.builtins import *\n",
    "\n",
    "from calm.dsl.builtins import ref, basic_cred\n",
    "from calm.dsl.builtins import action, parallel\n",
    "from calm.dsl.builtins import CalmTask\n",
    "from calm.dsl.builtins import CalmVariable\n",
    "from calm.dsl.builtins import Service, Package, Substrate\n",
    "from calm.dsl.builtins import Deployment, Profile, Blueprint\n",
    "from calm.dsl.builtins import provider_spec, read_provider_spec, read_local_file"
   ]
  },
  {
   "cell_type": "code",
   "execution_count": null,
   "metadata": {},
   "outputs": [],
   "source": []
  }
 ],
 "metadata": {
  "kernelspec": {
   "display_name": "Python 3",
   "language": "python",
   "name": "python3"
  },
  "language_info": {
   "codemirror_mode": {
    "name": "ipython",
    "version": 3
   },
   "file_extension": ".py",
   "mimetype": "text/x-python",
   "name": "python",
   "nbconvert_exporter": "python",
   "pygments_lexer": "ipython3",
   "version": "3.7.7"
  }
 },
 "nbformat": 4,
 "nbformat_minor": 4
}

{
 "cells": [
  {
   "cell_type": "code",
   "execution_count": 13,
   "metadata": {},
   "outputs": [
    {
     "name": "stdout",
     "output_type": "stream",
     "text": [
      "['/workspace/notebooks/calm-dsl/examples/DockerEdge', '/opt/conda/lib/python37.zip', '/opt/conda/lib/python3.7', '/opt/conda/lib/python3.7/lib-dynload', '', '/opt/conda/lib/python3.7/site-packages', '/opt/conda/lib/python3.7/site-packages/torchvision-0.3.0-py3.7-linux-x86_64.egg', '/opt/conda/lib/python3.7/site-packages/torch-1.5.0-py3.7-linux-x86_64.egg', '/opt/conda/lib/python3.7/site-packages/future-0.18.2-py3.7.egg', '/opt/conda/lib/python3.7/site-packages/IPython/extensions', '/root/.ipython', '/workspace/notebooks/calm-dsl', '/workspace/notebooks/calm-dsl']\n"
     ]
    }
   ],
   "source": [
    "import sys\n",
    "print(sys.path)"
   ]
  },
  {
   "cell_type": "code",
   "execution_count": 11,
   "metadata": {},
   "outputs": [],
   "source": [
    "sys.path.append(\"/workspace/notebooks/calm-dsl\")"
   ]
  },
  {
   "cell_type": "code",
   "execution_count": 12,
   "metadata": {},
   "outputs": [
    {
     "name": "stdout",
     "output_type": "stream",
     "text": [
      "['/workspace/notebooks/calm-dsl/examples/DockerEdge', '/opt/conda/lib/python37.zip', '/opt/conda/lib/python3.7', '/opt/conda/lib/python3.7/lib-dynload', '', '/opt/conda/lib/python3.7/site-packages', '/opt/conda/lib/python3.7/site-packages/torchvision-0.3.0-py3.7-linux-x86_64.egg', '/opt/conda/lib/python3.7/site-packages/torch-1.5.0-py3.7-linux-x86_64.egg', '/opt/conda/lib/python3.7/site-packages/future-0.18.2-py3.7.egg', '/opt/conda/lib/python3.7/site-packages/IPython/extensions', '/root/.ipython', '/workspace/notebooks/calm-dsl', '/workspace/notebooks/calm-dsl']\n"
     ]
    }
   ],
   "source": [
    "print(sys.path)"
   ]
  },
  {
   "cell_type": "code",
   "execution_count": 10,
   "metadata": {},
   "outputs": [
    {
     "name": "stdout",
     "output_type": "stream",
     "text": [
      "['/workspace/notebooks/calm-dsl/examples/DockerEdge', '/opt/conda/lib/python37.zip', '/opt/conda/lib/python3.7', '/opt/conda/lib/python3.7/lib-dynload', '', '/opt/conda/lib/python3.7/site-packages', '/opt/conda/lib/python3.7/site-packages/torchvision-0.3.0-py3.7-linux-x86_64.egg', '/opt/conda/lib/python3.7/site-packages/torch-1.5.0-py3.7-linux-x86_64.egg', '/opt/conda/lib/python3.7/site-packages/future-0.18.2-py3.7.egg', '/opt/conda/lib/python3.7/site-packages/IPython/extensions', '/root/.ipython', '/workspace/notebooks/calm-dsl']\n"
     ]
    }
   ],
   "source": [
    "print(sys.path)"
   ]
  },
  {
   "cell_type": "code",
   "execution_count": 6,
   "metadata": {},
   "outputs": [
    {
     "name": "stdout",
     "output_type": "stream",
     "text": [
      "['/workspace/notebooks/calm-dsl/examples/DockerEdge', '/opt/conda/lib/python37.zip', '/opt/conda/lib/python3.7', '/opt/conda/lib/python3.7/lib-dynload', '', '/opt/conda/lib/python3.7/site-packages', '/opt/conda/lib/python3.7/site-packages/torchvision-0.3.0-py3.7-linux-x86_64.egg', '/opt/conda/lib/python3.7/site-packages/torch-1.5.0-py3.7-linux-x86_64.egg', '/opt/conda/lib/python3.7/site-packages/future-0.18.2-py3.7.egg', '/opt/conda/lib/python3.7/site-packages/IPython/extensions', '/root/.ipython']\n"
     ]
    }
   ],
   "source": [
    "print(sys.path)"
   ]
  },
  {
   "cell_type": "code",
   "execution_count": 7,
   "metadata": {},
   "outputs": [],
   "source": [
    "sys.path.append(\"/workspace/notebooks/calm-dsl\")"
   ]
  },
  {
   "cell_type": "code",
   "execution_count": 8,
   "metadata": {},
   "outputs": [
    {
     "name": "stdout",
     "output_type": "stream",
     "text": [
      "['/workspace/notebooks/calm-dsl/examples/DockerEdge', '/opt/conda/lib/python37.zip', '/opt/conda/lib/python3.7', '/opt/conda/lib/python3.7/lib-dynload', '', '/opt/conda/lib/python3.7/site-packages', '/opt/conda/lib/python3.7/site-packages/torchvision-0.3.0-py3.7-linux-x86_64.egg', '/opt/conda/lib/python3.7/site-packages/torch-1.5.0-py3.7-linux-x86_64.egg', '/opt/conda/lib/python3.7/site-packages/future-0.18.2-py3.7.egg', '/opt/conda/lib/python3.7/site-packages/IPython/extensions', '/root/.ipython', '/workspace/notebooks/calm-dsl']\n"
     ]
    }
   ],
   "source": [
    "print(sys.path)"
   ]
  },
  {
   "cell_type": "code",
   "execution_count": 9,
   "metadata": {},
   "outputs": [],
   "source": [
    "import os\n",
    "\n",
    "#keeping verbose list of imports for reference only \n",
    "#use shortcut if importing a bunch of builtins\n",
    "#from calm.dsl.builtins import *\n",
    "\n",
    "from calm.dsl.builtins import ref, basic_cred\n",
    "from calm.dsl.builtins import action, parallel\n",
    "from calm.dsl.builtins import CalmTask\n",
    "from calm.dsl.builtins import CalmVariable\n",
    "from calm.dsl.builtins import Service, Package, Substrate\n",
    "from calm.dsl.builtins import Deployment, Profile, Blueprint\n",
    "from calm.dsl.builtins import provider_spec, read_provider_spec, read_local_file"
   ]
  },
  {
   "cell_type": "code",
   "execution_count": null,
   "metadata": {},
   "outputs": [],
   "source": []
  }
 ],
 "metadata": {
  "kernelspec": {
   "display_name": "Python 3",
   "language": "python",
   "name": "python3"
  },
  "language_info": {
   "codemirror_mode": {
    "name": "ipython",
    "version": 3
   },
   "file_extension": ".py",
   "mimetype": "text/x-python",
   "name": "python",
   "nbconvert_exporter": "python",
   "pygments_lexer": "ipython3",
   "version": "3.7.7"
  }
 },
 "nbformat": 4,
 "nbformat_minor": 4
}
